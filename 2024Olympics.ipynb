{
 "cells": [
  {
   "cell_type": "markdown",
   "id": "1b34336b-5c9e-4776-9e84-589068cf228a",
   "metadata": {},
   "source": [
    "## 0. Set up\n",
    "<i> Set up connection to DuckDB and load MySQL dataset into it."
   ]
  },
  {
   "cell_type": "code",
   "execution_count": 1,
   "id": "74db8602-2fae-460b-8c24-1549fe747930",
   "metadata": {},
   "outputs": [],
   "source": [
    "import duckdb\n",
    "import pandas as pd"
   ]
  },
  {
   "cell_type": "code",
   "execution_count": 3,
   "id": "575ff19e-e8ff-4cbe-bd9a-dc218721888f",
   "metadata": {},
   "outputs": [
    {
     "name": "stdout",
     "output_type": "stream",
     "text": [
      "The sql extension is already loaded. To reload it, use:\n",
      "  %reload_ext sql\n"
     ]
    },
    {
     "data": {
      "text/html": [
       "<span style=\"None\">Running query in &#x27;duckdb&#x27;</span>"
      ],
      "text/plain": [
       "Running query in 'duckdb'"
      ]
     },
     "metadata": {},
     "output_type": "display_data"
    },
    {
     "data": {
      "text/html": [
       "<table>\n",
       "    <thead>\n",
       "        <tr>\n",
       "            <th>Success</th>\n",
       "        </tr>\n",
       "    </thead>\n",
       "    <tbody>\n",
       "    </tbody>\n",
       "</table>"
      ],
      "text/plain": [
       "+---------+\n",
       "| Success |\n",
       "+---------+\n",
       "+---------+"
      ]
     },
     "execution_count": 3,
     "metadata": {},
     "output_type": "execute_result"
    }
   ],
   "source": [
    "%load_ext sql\n",
    "conn = duckdb.connect()\n",
    "%sql conn --alias duckdb\n",
    "%sql ATTACH '<path>/olympics-cmudb2024.db' as olympics "
   ]
  },
  {
   "cell_type": "markdown",
   "id": "fb861c22-6b23-4006-a136-4931bb77afff",
   "metadata": {},
   "source": [
    "DuckDB's Python API has some limitation such as ATTACH command doesn't take effect. So database name has to be specified through variable in Magic SQL"
   ]
  },
  {
   "cell_type": "code",
   "execution_count": 59,
   "id": "2e3d76a4-176c-46a7-b2b8-52ab2f6b48d8",
   "metadata": {},
   "outputs": [],
   "source": [
    "db = 'olympics'"
   ]
  },
  {
   "cell_type": "markdown",
   "id": "8cb06e88-db49-47ad-99db-f6ffa6cc110f",
   "metadata": {},
   "source": [
    "## 1. Sample DuckDB\n",
    "<i> List all medal types in alphabetical order."
   ]
  },
  {
   "cell_type": "code",
   "execution_count": 53,
   "id": "7ff5dc6c-9076-4be2-8c77-7189e906eb03",
   "metadata": {},
   "outputs": [
    {
     "data": {
      "text/html": [
       "<span style=\"None\">Running query in &#x27;duckdb&#x27;</span>"
      ],
      "text/plain": [
       "Running query in 'duckdb'"
      ]
     },
     "metadata": {},
     "output_type": "display_data"
    },
    {
     "data": {
      "text/html": [
       "<table>\n",
       "    <thead>\n",
       "        <tr>\n",
       "            <th>name</th>\n",
       "        </tr>\n",
       "    </thead>\n",
       "    <tbody>\n",
       "        <tr>\n",
       "            <td>Bronze Medal</td>\n",
       "        </tr>\n",
       "        <tr>\n",
       "            <td>Gold Medal</td>\n",
       "        </tr>\n",
       "        <tr>\n",
       "            <td>Silver Medal</td>\n",
       "        </tr>\n",
       "    </tbody>\n",
       "</table>"
      ],
      "text/plain": [
       "+--------------+\n",
       "|     name     |\n",
       "+--------------+\n",
       "| Bronze Medal |\n",
       "|  Gold Medal  |\n",
       "| Silver Medal |\n",
       "+--------------+"
      ]
     },
     "execution_count": 53,
     "metadata": {},
     "output_type": "execute_result"
    }
   ],
   "source": [
    "%sql SELECT distinct(name) FROM {{db}}.medal_info ORDER BY name;"
   ]
  },
  {
   "cell_type": "markdown",
   "id": "05c9a248-389a-4c6a-ad15-d77b08e631ac",
   "metadata": {},
   "source": [
    "## 2. Successful Coaches\n",
    "<i> Find all successful coaches who have won at least one medal. List them in descending order by medal number, then by name alphabetically.\n",
    "\n",
    "* Details:  A medal is credited to a coach if it shares the same country and discipline with the coach, regardless of the gender or event. Consider to use `winner_code` of one medal to decide its country.\n",
    "* Output Format: COACH_NAME|MEDAL_NUMBER"
   ]
  },
  {
   "cell_type": "code",
   "execution_count": 54,
   "id": "64d53818-1ea0-4365-879a-ffee48b42753",
   "metadata": {},
   "outputs": [
    {
     "data": {
      "text/html": [
       "<span style=\"None\">Running query in &#x27;duckdb&#x27;</span>"
      ],
      "text/plain": [
       "Running query in 'duckdb'"
      ]
     },
     "metadata": {},
     "output_type": "display_data"
    },
    {
     "data": {
      "text/html": [
       "<table>\n",
       "    <thead>\n",
       "        <tr>\n",
       "            <th>COACH_NAME</th>\n",
       "            <th>MEDAL_NUMBER</th>\n",
       "        </tr>\n",
       "    </thead>\n",
       "    <tbody>\n",
       "        <tr>\n",
       "            <td>BRECKENRIDGE Grant</td>\n",
       "            <td>9</td>\n",
       "        </tr>\n",
       "        <tr>\n",
       "            <td>CAESAR Syque</td>\n",
       "            <td>9</td>\n",
       "        </tr>\n",
       "        <tr>\n",
       "            <td>CAREY Brian</td>\n",
       "            <td>9</td>\n",
       "        </tr>\n",
       "        <tr>\n",
       "            <td>CHEN Wei</td>\n",
       "            <td>9</td>\n",
       "        </tr>\n",
       "        <tr>\n",
       "            <td>GAARENSTROOM Jordan</td>\n",
       "            <td>9</td>\n",
       "        </tr>\n",
       "        <tr>\n",
       "            <td>GRABA Jess</td>\n",
       "            <td>9</td>\n",
       "        </tr>\n",
       "        <tr>\n",
       "            <td>HE Hua</td>\n",
       "            <td>9</td>\n",
       "        </tr>\n",
       "        <tr>\n",
       "            <td>JIN Weiguo</td>\n",
       "            <td>9</td>\n",
       "        </tr>\n",
       "        <tr>\n",
       "            <td>LANDI Cecile</td>\n",
       "            <td>9</td>\n",
       "        </tr>\n",
       "        <tr>\n",
       "            <td>LANDI Laurent</td>\n",
       "            <td>9</td>\n",
       "        </tr>\n",
       "    </tbody>\n",
       "</table>\n",
       "<span style=\"font-style:italic;text-align:center;\">Truncated to <a href=\"https://jupysql.ploomber.io/en/latest/api/configuration.html#displaylimit\">displaylimit</a> of 10.</span>"
      ],
      "text/plain": [
       "+---------------------+--------------+\n",
       "|      COACH_NAME     | MEDAL_NUMBER |\n",
       "+---------------------+--------------+\n",
       "|  BRECKENRIDGE Grant |      9       |\n",
       "|     CAESAR Syque    |      9       |\n",
       "|     CAREY Brian     |      9       |\n",
       "|       CHEN Wei      |      9       |\n",
       "| GAARENSTROOM Jordan |      9       |\n",
       "|      GRABA Jess     |      9       |\n",
       "|        HE Hua       |      9       |\n",
       "|      JIN Weiguo     |      9       |\n",
       "|     LANDI Cecile    |      9       |\n",
       "|    LANDI Laurent    |      9       |\n",
       "+---------------------+--------------+\n",
       "Truncated to displaylimit of 10."
      ]
     },
     "execution_count": 54,
     "metadata": {},
     "output_type": "execute_result"
    }
   ],
   "source": [
    "%%sql \n",
    "SELECT \n",
    "\tC.name AS COACH_NAME, \n",
    "\tSUM(NUM) AS MEDAL_NUMBER \n",
    "FROM \n",
    "    ((\n",
    "        SELECT M.discipline, T.country_code, COUNT(*) AS NUM FROM {{db}}.medals M \n",
    "        INNER JOIN (SELECT DISTINCT country_code, discipline, code FROM {{db}}.teams) T ON winner_code = T.code \n",
    "        GROUP BY M.discipline, T.country_code ORDER BY NUM DESC\n",
    "    ) \n",
    "    UNION \n",
    "\t(\n",
    "        SELECT M.discipline, A.country_code, COUNT(*) AS NUM FROM {{db}}.medals M \n",
    "        INNER JOIN {{db}}.athletes A ON winner_code = code \n",
    "        GROUP BY M.discipline, A.country_code ORDER BY NUM DESC\n",
    "    )) TMP \n",
    "INNER JOIN {{db}}.coaches C ON C.discipline = TMP.discipline AND C.country_code = TMP.country_code \n",
    "GROUP BY C.name, C.discipline, C.country_code \n",
    "ORDER BY MEDAL_NUMBER DESC, C.name ASC;\n"
   ]
  },
  {
   "cell_type": "markdown",
   "id": "17cd96e2-ba64-4eb7-9654-f0cdcd78780a",
   "metadata": {},
   "source": [
    "## 3. Judo Athlete Medals\n",
    "<i> Find all athletes in Judo discipline, and also list the number of medals they have won. Sort output in descending order by medal number first, then by name alphabetically."
   ]
  },
  {
   "cell_type": "code",
   "execution_count": 55,
   "id": "598405f4-8ced-49b3-840e-6aaff114c134",
   "metadata": {},
   "outputs": [
    {
     "data": {
      "text/html": [
       "<span style=\"None\">Running query in &#x27;duckdb&#x27;</span>"
      ],
      "text/plain": [
       "Running query in 'duckdb'"
      ]
     },
     "metadata": {},
     "output_type": "display_data"
    },
    {
     "data": {
      "text/html": [
       "<table>\n",
       "    <thead>\n",
       "        <tr>\n",
       "            <th>ATHLETE_NAME</th>\n",
       "            <th>MEDAL_NUMBER</th>\n",
       "        </tr>\n",
       "    </thead>\n",
       "    <tbody>\n",
       "        <tr>\n",
       "            <td>ABE Hifumi</td>\n",
       "            <td>2</td>\n",
       "        </tr>\n",
       "        <tr>\n",
       "            <td>AGBEGNENOU Clarisse</td>\n",
       "            <td>2</td>\n",
       "        </tr>\n",
       "        <tr>\n",
       "            <td>BOUKLI Shirine</td>\n",
       "            <td>2</td>\n",
       "        </tr>\n",
       "        <tr>\n",
       "            <td>BUCHARD Amandine</td>\n",
       "            <td>2</td>\n",
       "        </tr>\n",
       "        <tr>\n",
       "            <td>CYSIQUE Sarah Leonie</td>\n",
       "            <td>2</td>\n",
       "        </tr>\n",
       "        <tr>\n",
       "            <td>DICKO Romane</td>\n",
       "            <td>2</td>\n",
       "        </tr>\n",
       "        <tr>\n",
       "            <td>FUNAKUBO Haruka</td>\n",
       "            <td>2</td>\n",
       "        </tr>\n",
       "        <tr>\n",
       "            <td>GABA Joan-Benjamin</td>\n",
       "            <td>2</td>\n",
       "        </tr>\n",
       "        <tr>\n",
       "            <td>HASHIMOTO Soichi</td>\n",
       "            <td>2</td>\n",
       "        </tr>\n",
       "        <tr>\n",
       "            <td>HUH Mimi</td>\n",
       "            <td>2</td>\n",
       "        </tr>\n",
       "    </tbody>\n",
       "</table>\n",
       "<span style=\"font-style:italic;text-align:center;\">Truncated to <a href=\"https://jupysql.ploomber.io/en/latest/api/configuration.html#displaylimit\">displaylimit</a> of 10.</span>"
      ],
      "text/plain": [
       "+----------------------+--------------+\n",
       "|     ATHLETE_NAME     | MEDAL_NUMBER |\n",
       "+----------------------+--------------+\n",
       "|      ABE Hifumi      |      2       |\n",
       "| AGBEGNENOU Clarisse  |      2       |\n",
       "|    BOUKLI Shirine    |      2       |\n",
       "|   BUCHARD Amandine   |      2       |\n",
       "| CYSIQUE Sarah Leonie |      2       |\n",
       "|     DICKO Romane     |      2       |\n",
       "|   FUNAKUBO Haruka    |      2       |\n",
       "|  GABA Joan-Benjamin  |      2       |\n",
       "|   HASHIMOTO Soichi   |      2       |\n",
       "|       HUH Mimi       |      2       |\n",
       "+----------------------+--------------+\n",
       "Truncated to displaylimit of 10."
      ]
     },
     "execution_count": 55,
     "metadata": {},
     "output_type": "execute_result"
    }
   ],
   "source": [
    "%%sql\n",
    "SELECT \n",
    "    ATHLETE_NAME, \n",
    "    SUM(MEDAL_NUMBER) AS MEDAL_NUMBER \n",
    "FROM \n",
    "    ((\n",
    "        SELECT ANY_VALUE(A.name) AS ATHLETE_NAME, COUNT(*) AS MEDAL_NUMBER FROM {{db}}.athletes A \n",
    "        INNER JOIN (\n",
    "            SELECT T.team, M.winner_code, T.athletes_code FROM {{db}}.medals M \n",
    "            INNER JOIN {{db}}.teams T ON winner_code = code AND T.discipline = 'Judo'\n",
    "        ) TMP ON TMP.athletes_code = A.code \n",
    "        GROUP BY TMP.athletes_code\n",
    "    )\n",
    "    UNION ALL\n",
    "    (\n",
    "        SELECT ANY_VALUE(A.name) AS ATHLETE_NAME, COUNT(*) AS MEDAL_NUMBER FROM {{db}}.medals M \n",
    "        INNER JOIN {{db}}.athletes A ON winner_code = code AND discipline = 'Judo' \n",
    "        GROUP BY M.winner_code\n",
    "    )) \n",
    "GROUP BY ATHLETE_NAME \n",
    "ORDER BY MEDAL_NUMBER DESC, ATHLETE_NAME ASC;\n"
   ]
  },
  {
   "cell_type": "markdown",
   "id": "6e4e84af-de8c-4f3e-a00d-ba7897633b64",
   "metadata": {},
   "source": [
    "## 4. Athletics Venue Athletes\n",
    "<i> For all venues that have hosted `Athletics` discipline competitions, list all athletes who have competed at these venues, and sort them by the distance from their nationality country to the country they represented in descending order, then by name alphabetically."
   ]
  },
  {
   "cell_type": "code",
   "execution_count": 56,
   "id": "572cb569-e237-4245-aed9-1b1d213c427e",
   "metadata": {},
   "outputs": [
    {
     "data": {
      "text/html": [
       "<span style=\"None\">Running query in &#x27;duckdb&#x27;</span>"
      ],
      "text/plain": [
       "Running query in 'duckdb'"
      ]
     },
     "metadata": {},
     "output_type": "display_data"
    },
    {
     "data": {
      "text/html": [
       "<table>\n",
       "    <thead>\n",
       "        <tr>\n",
       "            <th>ATHLETE_NAME</th>\n",
       "            <th>REPRESENTED_COUNTRY_CODE</th>\n",
       "            <th>NATIONALITY_COUNTRY_CODE</th>\n",
       "        </tr>\n",
       "    </thead>\n",
       "    <tbody>\n",
       "        <tr>\n",
       "            <td>GREEN Joseph</td>\n",
       "            <td>GUM</td>\n",
       "            <td>USA</td>\n",
       "        </tr>\n",
       "        <tr>\n",
       "            <td>TUGADE-WATSON Regine</td>\n",
       "            <td>GUM</td>\n",
       "            <td>USA</td>\n",
       "        </tr>\n",
       "        <tr>\n",
       "            <td>CABANG John</td>\n",
       "            <td>PHI</td>\n",
       "            <td>ESP</td>\n",
       "        </tr>\n",
       "        <tr>\n",
       "            <td>IAKOPO Filomenaleonisa</td>\n",
       "            <td>ASA</td>\n",
       "            <td>USA</td>\n",
       "        </tr>\n",
       "        <tr>\n",
       "            <td>HOWELL Davonte</td>\n",
       "            <td>CAY</td>\n",
       "            <td>GBR</td>\n",
       "        </tr>\n",
       "        <tr>\n",
       "            <td>JALLOW Sanu</td>\n",
       "            <td>GAM</td>\n",
       "            <td>USA</td>\n",
       "        </tr>\n",
       "        <tr>\n",
       "            <td>BRATHWAITE Rikkoi</td>\n",
       "            <td>IVB</td>\n",
       "            <td>GBR</td>\n",
       "        </tr>\n",
       "        <tr>\n",
       "            <td>HODGE Adaejah</td>\n",
       "            <td>IVB</td>\n",
       "            <td>GBR</td>\n",
       "        </tr>\n",
       "        <tr>\n",
       "            <td>McMASTER Kyron</td>\n",
       "            <td>IVB</td>\n",
       "            <td>GBR</td>\n",
       "        </tr>\n",
       "        <tr>\n",
       "            <td>PERINCHIEF Jah-Nhai</td>\n",
       "            <td>BER</td>\n",
       "            <td>GBR</td>\n",
       "        </tr>\n",
       "    </tbody>\n",
       "</table>\n",
       "<span style=\"font-style:italic;text-align:center;\">Truncated to <a href=\"https://jupysql.ploomber.io/en/latest/api/configuration.html#displaylimit\">displaylimit</a> of 10.</span>"
      ],
      "text/plain": [
       "+------------------------+--------------------------+--------------------------+\n",
       "|      ATHLETE_NAME      | REPRESENTED_COUNTRY_CODE | NATIONALITY_COUNTRY_CODE |\n",
       "+------------------------+--------------------------+--------------------------+\n",
       "|      GREEN Joseph      |           GUM            |           USA            |\n",
       "|  TUGADE-WATSON Regine  |           GUM            |           USA            |\n",
       "|      CABANG John       |           PHI            |           ESP            |\n",
       "| IAKOPO Filomenaleonisa |           ASA            |           USA            |\n",
       "|     HOWELL Davonte     |           CAY            |           GBR            |\n",
       "|      JALLOW Sanu       |           GAM            |           USA            |\n",
       "|   BRATHWAITE Rikkoi    |           IVB            |           GBR            |\n",
       "|     HODGE Adaejah      |           IVB            |           GBR            |\n",
       "|     McMASTER Kyron     |           IVB            |           GBR            |\n",
       "|  PERINCHIEF Jah-Nhai   |           BER            |           GBR            |\n",
       "+------------------------+--------------------------+--------------------------+\n",
       "Truncated to displaylimit of 10."
      ]
     },
     "execution_count": 56,
     "metadata": {},
     "output_type": "execute_result"
    }
   ],
   "source": [
    "%%sql\n",
    "SELECT \n",
    "\tA.name AS ATHLETE_NAME, \n",
    "\tA.country_code AS REPRESENTED_COUNTRY_CODE, \n",
    "\tA.nationality_code AS NATIONALITY_COUNTRY_CODE \n",
    "FROM {{db}}.athletes A \n",
    "INNER JOIN \n",
    "\t((\n",
    "        SELECT DISTINCT participant_code AS code FROM {{db}}.results \n",
    "        WHERE \n",
    "            venue IN (SELECT venue FROM {{db}}.venues WHERE disciplines LIKE '%Athletics%') AND \n",
    "            participant_code IN (SELECT code FROM {{db}}.athletes)\n",
    "    ) \n",
    "\tUNION \n",
    "  \t(\n",
    "        SELECT DISTINCT athletes_code AS code FROM {{db}}.results \n",
    "        INNER JOIN {{db}}.teams ON participant_code = code \n",
    "        WHERE venue IN (SELECT venue FROM {{db}}.venues WHERE disciplines LIKE '%Athletics%')\n",
    "    )) TMP \n",
    "    ON TMP.code = A.code \n",
    "INNER JOIN {{db}}.countries C \n",
    "    ON A.country_code = C.code AND C.Latitude IS NOT NULL AND C.Longitude IS NOT NULL \n",
    "INNER JOIN {{db}}.countries C2 \n",
    "    ON A.nationality_code = C2.code AND C2.Latitude IS NOT NULL AND C2.Longitude IS NOT NULL \n",
    "ORDER BY sqrt((C.Latitude-C2.Latitude)**2 + (C.Longitude-C2.Longitude)**2) DESC, A.name ASC;\n"
   ]
  },
  {
   "cell_type": "markdown",
   "id": "43504d18-e277-4bc6-8a71-43b117dcffa1",
   "metadata": {},
   "source": [
    "## 5. Top 5 Rank Country Per Day\n",
    "<i> For each day, find the country with the highest number of appearances in the top 5 ranks (inclusive) of that day. For these countries, also list their population rank and GDP rank. Sort the output by date in ascending order."
   ]
  },
  {
   "cell_type": "code",
   "execution_count": 57,
   "id": "ef2f2c09-b985-48a7-b6c5-472d2a455395",
   "metadata": {},
   "outputs": [
    {
     "data": {
      "text/html": [
       "<span style=\"None\">Running query in &#x27;duckdb&#x27;</span>"
      ],
      "text/plain": [
       "Running query in 'duckdb'"
      ]
     },
     "metadata": {},
     "output_type": "display_data"
    },
    {
     "data": {
      "text/html": [
       "<table>\n",
       "    <thead>\n",
       "        <tr>\n",
       "            <th>DATE</th>\n",
       "            <th>COUNTRY_CODE</th>\n",
       "            <th>TOP5_APPEARANCES</th>\n",
       "            <th>GDP_RANK</th>\n",
       "            <th>POPULATION_RANK</th>\n",
       "        </tr>\n",
       "    </thead>\n",
       "    <tbody>\n",
       "        <tr>\n",
       "            <td>2024-07-25</td>\n",
       "            <td>KOR</td>\n",
       "            <td>7</td>\n",
       "            <td>38</td>\n",
       "            <td>22</td>\n",
       "        </tr>\n",
       "        <tr>\n",
       "            <td>2024-07-27</td>\n",
       "            <td>USA</td>\n",
       "            <td>27</td>\n",
       "            <td>2</td>\n",
       "            <td>3</td>\n",
       "        </tr>\n",
       "        <tr>\n",
       "            <td>2024-07-28</td>\n",
       "            <td>USA</td>\n",
       "            <td>24</td>\n",
       "            <td>2</td>\n",
       "            <td>3</td>\n",
       "        </tr>\n",
       "        <tr>\n",
       "            <td>2024-07-29</td>\n",
       "            <td>USA</td>\n",
       "            <td>28</td>\n",
       "            <td>2</td>\n",
       "            <td>3</td>\n",
       "        </tr>\n",
       "        <tr>\n",
       "            <td>2024-07-30</td>\n",
       "            <td>USA</td>\n",
       "            <td>34</td>\n",
       "            <td>2</td>\n",
       "            <td>3</td>\n",
       "        </tr>\n",
       "        <tr>\n",
       "            <td>2024-07-31</td>\n",
       "            <td>GBR</td>\n",
       "            <td>24</td>\n",
       "            <td>18</td>\n",
       "            <td>20</td>\n",
       "        </tr>\n",
       "        <tr>\n",
       "            <td>2024-08-01</td>\n",
       "            <td>USA</td>\n",
       "            <td>45</td>\n",
       "            <td>2</td>\n",
       "            <td>3</td>\n",
       "        </tr>\n",
       "        <tr>\n",
       "            <td>2024-08-02</td>\n",
       "            <td>USA</td>\n",
       "            <td>47</td>\n",
       "            <td>2</td>\n",
       "            <td>3</td>\n",
       "        </tr>\n",
       "        <tr>\n",
       "            <td>2024-08-03</td>\n",
       "            <td>USA</td>\n",
       "            <td>48</td>\n",
       "            <td>2</td>\n",
       "            <td>3</td>\n",
       "        </tr>\n",
       "        <tr>\n",
       "            <td>2024-08-04</td>\n",
       "            <td>USA</td>\n",
       "            <td>40</td>\n",
       "            <td>2</td>\n",
       "            <td>3</td>\n",
       "        </tr>\n",
       "    </tbody>\n",
       "</table>\n",
       "<span style=\"font-style:italic;text-align:center;\">Truncated to <a href=\"https://jupysql.ploomber.io/en/latest/api/configuration.html#displaylimit\">displaylimit</a> of 10.</span>"
      ],
      "text/plain": [
       "+------------+--------------+------------------+----------+-----------------+\n",
       "|    DATE    | COUNTRY_CODE | TOP5_APPEARANCES | GDP_RANK | POPULATION_RANK |\n",
       "+------------+--------------+------------------+----------+-----------------+\n",
       "| 2024-07-25 |     KOR      |        7         |    38    |        22       |\n",
       "| 2024-07-27 |     USA      |        27        |    2     |        3        |\n",
       "| 2024-07-28 |     USA      |        24        |    2     |        3        |\n",
       "| 2024-07-29 |     USA      |        28        |    2     |        3        |\n",
       "| 2024-07-30 |     USA      |        34        |    2     |        3        |\n",
       "| 2024-07-31 |     GBR      |        24        |    18    |        20       |\n",
       "| 2024-08-01 |     USA      |        45        |    2     |        3        |\n",
       "| 2024-08-02 |     USA      |        47        |    2     |        3        |\n",
       "| 2024-08-03 |     USA      |        48        |    2     |        3        |\n",
       "| 2024-08-04 |     USA      |        40        |    2     |        3        |\n",
       "+------------+--------------+------------------+----------+-----------------+\n",
       "Truncated to displaylimit of 10."
      ]
     },
     "execution_count": 57,
     "metadata": {},
     "output_type": "execute_result"
    }
   ],
   "source": [
    "%%sql\n",
    "WITH \n",
    "  CCODE AS (\n",
    "    (SELECT DISTINCT participant_code, country_code FROM {{db}}.results INNER JOIN {{db}}.athletes ON participant_code = code)\n",
    "      UNION\n",
    "    (SELECT DISTINCT participant_code, country_code FROM {{db}}.results INNER JOIN {{db}}.teams ON participant_code = code)\n",
    "    ),\n",
    "  \n",
    "  TOP5 AS (\n",
    "    SELECT * FROM \n",
    "        (SELECT \n",
    "            R.date DATE, \n",
    "            CC.country_code COUNTRY_CODE, \n",
    "            count(R.*) TOP5_APPEARANCES, \n",
    "            row_number() OVER (PARTITION BY DATE ORDER BY TOP5_APPEARANCES DESC, COUNTRY_CODE ASC) AS rownum \n",
    "        FROM {{db}}.results R \n",
    "        LEFT JOIN CCODE CC ON CC.participant_code = R.participant_code \n",
    "        WHERE R.rank IS NOT NULL AND R.rank <= 5  \n",
    "        GROUP BY DATE, COUNTRY_CODE) \n",
    "    WHERE rownum = 1\n",
    "    ),\n",
    "  \n",
    "  COUNTRYRANK AS (\n",
    "    SELECT \n",
    "        code, \n",
    "        rank() OVER (ORDER BY \"GDP ($ per capita)\" DESC) GDP_RANK, \n",
    "        rank() OVER (ORDER BY Population DESC) POPULATION_RANK \n",
    "    FROM {{db}}.countries\n",
    "    ) \n",
    "  \n",
    "  \n",
    "SELECT DATE, COUNTRY_CODE, TOP5_APPEARANCES, GDP_RANK, POPULATION_RANK \n",
    "FROM TOP5 \n",
    "LEFT JOIN COUNTRYRANK ON COUNTRY_CODE = code \n",
    "ORDER BY DATE ASC;"
   ]
  },
  {
   "cell_type": "markdown",
   "id": "ae61b902-c39b-4260-b375-b34397238bc2",
   "metadata": {},
   "source": [
    "## 6. Big Progress Country Female Teams\n",
    "<i> List the five countries with the greatest improvement in the number of gold medals compared to the Tokyo Olympics. For each of these five countries, list all their all-female teams. Sort the output first by the increased number of gold medals in descending order, then by country code alphabetically, and last by team code alphabetically.\n",
    "\n",
    "* Details: When calculating all-female teams, if the `athlete_code` in a record from the `teams` table is not found in the `athletes` table, please ignore this record as if it doesn't exist.\n",
    "* Hints: You might find Lateral Joins in DuckDB useful: find out the 5 countries with largest progress first, and then use lateral join to find their all-female reams.\n",
    "* Output Format: COUNTRY_CODE|INCREASED_GOLD_MEDAL_NUMBER|TEAM_CODE\n"
   ]
  },
  {
   "cell_type": "code",
   "execution_count": 58,
   "id": "a02bd807-3254-441c-a086-446d13374162",
   "metadata": {
    "scrolled": true
   },
   "outputs": [
    {
     "data": {
      "text/html": [
       "<span style=\"None\">Running query in &#x27;duckdb&#x27;</span>"
      ],
      "text/plain": [
       "Running query in 'duckdb'"
      ]
     },
     "metadata": {},
     "output_type": "display_data"
    },
    {
     "data": {
      "text/html": [
       "<table>\n",
       "    <thead>\n",
       "        <tr>\n",
       "            <th>COUNTRY_CODE</th>\n",
       "            <th>INCREASED_GOLD_MEDAL_NUMBER</th>\n",
       "            <th>TEAM_CODE</th>\n",
       "        </tr>\n",
       "    </thead>\n",
       "    <tbody>\n",
       "        <tr>\n",
       "            <td>KOR</td>\n",
       "            <td>7</td>\n",
       "            <td>ARCWTEAM3---KOR01</td>\n",
       "        </tr>\n",
       "        <tr>\n",
       "            <td>KOR</td>\n",
       "            <td>7</td>\n",
       "            <td>BDMWDOUBLES-KOR01</td>\n",
       "        </tr>\n",
       "        <tr>\n",
       "            <td>KOR</td>\n",
       "            <td>7</td>\n",
       "            <td>BDMWDOUBLES-KOR02</td>\n",
       "        </tr>\n",
       "        <tr>\n",
       "            <td>KOR</td>\n",
       "            <td>7</td>\n",
       "            <td>FENWTEAMEPEEKOR01</td>\n",
       "        </tr>\n",
       "        <tr>\n",
       "            <td>KOR</td>\n",
       "            <td>7</td>\n",
       "            <td>FENWTEAMSABRKOR01</td>\n",
       "        </tr>\n",
       "        <tr>\n",
       "            <td>KOR</td>\n",
       "            <td>7</td>\n",
       "            <td>GARWTEAM----KOR01</td>\n",
       "        </tr>\n",
       "        <tr>\n",
       "            <td>KOR</td>\n",
       "            <td>7</td>\n",
       "            <td>HBLWTEAM7---KOR01</td>\n",
       "        </tr>\n",
       "        <tr>\n",
       "            <td>KOR</td>\n",
       "            <td>7</td>\n",
       "            <td>SWAWTEAM2---KOR01</td>\n",
       "        </tr>\n",
       "        <tr>\n",
       "            <td>KOR</td>\n",
       "            <td>7</td>\n",
       "            <td>TTEWTEAM----KOR01</td>\n",
       "        </tr>\n",
       "        <tr>\n",
       "            <td>FRA</td>\n",
       "            <td>6</td>\n",
       "            <td>ARCWTEAM3---FRA01</td>\n",
       "        </tr>\n",
       "    </tbody>\n",
       "</table>\n",
       "<span style=\"font-style:italic;text-align:center;\">Truncated to <a href=\"https://jupysql.ploomber.io/en/latest/api/configuration.html#displaylimit\">displaylimit</a> of 10.</span>"
      ],
      "text/plain": [
       "+--------------+-----------------------------+-------------------+\n",
       "| COUNTRY_CODE | INCREASED_GOLD_MEDAL_NUMBER |     TEAM_CODE     |\n",
       "+--------------+-----------------------------+-------------------+\n",
       "|     KOR      |              7              | ARCWTEAM3---KOR01 |\n",
       "|     KOR      |              7              | BDMWDOUBLES-KOR01 |\n",
       "|     KOR      |              7              | BDMWDOUBLES-KOR02 |\n",
       "|     KOR      |              7              | FENWTEAMEPEEKOR01 |\n",
       "|     KOR      |              7              | FENWTEAMSABRKOR01 |\n",
       "|     KOR      |              7              | GARWTEAM----KOR01 |\n",
       "|     KOR      |              7              | HBLWTEAM7---KOR01 |\n",
       "|     KOR      |              7              | SWAWTEAM2---KOR01 |\n",
       "|     KOR      |              7              | TTEWTEAM----KOR01 |\n",
       "|     FRA      |              6              | ARCWTEAM3---FRA01 |\n",
       "+--------------+-----------------------------+-------------------+\n",
       "Truncated to displaylimit of 10."
      ]
     },
     "execution_count": 58,
     "metadata": {},
     "output_type": "execute_result"
    }
   ],
   "source": [
    "%%sql\n",
    "WITH \n",
    "    PARISGOLD AS (\n",
    "        SELECT country_code, sum(num) num FROM (\n",
    "            (SELECT country_code, count(*) num FROM {{db}}.medals \n",
    "            LEFT JOIN {{db}}.athletes T ON winner_code = T.code \n",
    "            WHERE medal_code = 1 AND country_code IS NOT NULL \n",
    "            GROUP BY country_code)\n",
    "                UNION ALL\n",
    "            (SELECT country_code, count(DISTINCT code) num FROM {{db}}.medals \n",
    "            LEFT JOIN {{db}}.teams T ON winner_code = T.code \n",
    "            WHERE medal_code = 1 AND country_code IS NOT NULL \n",
    "            GROUP BY country_code)) \n",
    "        GROUP BY country_code\n",
    "    ), \n",
    "    \n",
    "    TOKYOGOLD AS (\n",
    "        SELECT country_code, gold_medal FROM {{db}}.tokyo_medals\n",
    "    ),\n",
    "    \n",
    "    ALLFEMALE AS (\n",
    "        SELECT \n",
    "            DISTINCT T.country_code, \n",
    "            T.code, \n",
    "            sum(CASE WHEN A.gender = 1 THEN 0 ELSE 1 END) num \n",
    "        FROM {{db}}.teams T \n",
    "        LEFT JOIN {{db}}.athletes A ON T.athletes_code = A.code \n",
    "        WHERE T.athletes_code IN (SELECT code FROM {{db}}.athletes) \n",
    "        GROUP BY T.country_code, T.code HAVING num = 0\n",
    "    ),\n",
    "    \n",
    "    RESULT AS (\n",
    "        SELECT \n",
    "            P.country_code COUNTRY_CODE, \n",
    "            P.num-T.gold_medal INCREASED_GOLD_MEDAL_NUMBER, \n",
    "            AF.code TEAM_CODE, \n",
    "            rank_dense() OVER (ORDER BY P.num-T.gold_medal DESC) rank \n",
    "        FROM PARISGOLD P \n",
    "        LEFT JOIN TOKYOGOLD T ON P.country_code = T.country_code \n",
    "        LEFT JOIN ALLFEMALE AF ON P.country_code = AF.country_code \n",
    "        ORDER BY INCREASED_GOLD_MEDAL_NUMBER DESC\n",
    "    ) \n",
    " \n",
    "SELECT COUNTRY_CODE, INCREASED_GOLD_MEDAL_NUMBER, TEAM_CODE FROM RESULT \n",
    "WHERE rank <= 5 \n",
    "ORDER BY INCREASED_GOLD_MEDAL_NUMBER DESC, COUNTRY_CODE ASC, TEAM_CODE ASC;"
   ]
  },
  {
   "cell_type": "code",
   "execution_count": null,
   "id": "b08e3534-3c24-423b-b5dc-3c5855a4dc82",
   "metadata": {},
   "outputs": [],
   "source": []
  }
 ],
 "metadata": {
  "kernelspec": {
   "display_name": "Python 3 (ipykernel)",
   "language": "python",
   "name": "python3"
  },
  "language_info": {
   "codemirror_mode": {
    "name": "ipython",
    "version": 3
   },
   "file_extension": ".py",
   "mimetype": "text/x-python",
   "name": "python",
   "nbconvert_exporter": "python",
   "pygments_lexer": "ipython3",
   "version": "3.8.10"
  }
 },
 "nbformat": 4,
 "nbformat_minor": 5
}
